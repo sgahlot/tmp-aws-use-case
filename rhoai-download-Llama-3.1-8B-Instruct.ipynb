{
 "cells": [
  {
   "cell_type": "code",
   "execution_count": null,
   "id": "a566325d-e374-4fac-9dbe-e4c31fda8e75",
   "metadata": {
    "tags": []
   },
   "outputs": [],
   "source": [
    "!pip install --upgrade pip\n",
    "!pip install huggingface_hub"
   ]
  },
  {
   "cell_type": "code",
   "execution_count": null,
   "id": "43bf487b-567b-4e48-9588-dd8f0bce083c",
   "metadata": {
    "tags": []
   },
   "outputs": [],
   "source": [
    "from huggingface_hub import notebook_login\n",
    "notebook_login()"
   ]
  },
  {
   "cell_type": "code",
   "execution_count": null,
   "id": "ded1d16d-8894-41b8-af5e-3e43f0660154",
   "metadata": {
    "tags": []
   },
   "outputs": [],
   "source": [
    "from huggingface_hub import snapshot_download\n",
    "\n",
    "snapshot_download(repo_id = 'meta-llama/Llama-3.1-8B-Instruct', local_dir='./repos', ignore_patterns=[\"original/*\"])"
   ]
  },
  {
   "cell_type": "code",
   "execution_count": null,
   "id": "b6aa12a1-b844-4516-897f-ca30b5b07e18",
   "metadata": {
    "tags": []
   },
   "outputs": [],
   "source": [
    "# -------------------------------------------------\n",
    "# Import the transfer notebook to upload our pytorch model to minio\n",
    "# -------------------------------------------------\n",
    "%run ./Xfer-to-minio.ipynb\n",
    "\n",
    "# Uncomment next statement if running only this cell (in case of OOM and Kernel disconnect)\n",
    "model_dir = \"repos\"\n",
    "prefix = \"Llama-3.1-8B-Instruct\"\n",
    "s3_env: S3Env = init()\n",
    "\n",
    "dir_model = BucketMeta(model_data_dir=model_dir,\n",
    "                       bucket_name='models',\n",
    "                       client=s3_env.client,\n",
    "                       prefix=prefix,\n",
    "                       exclude_dirs_set=['.cache'],\n",
    "                       exclude_files_set=['.gitattributes'])\n",
    "upload_files(dir_model)"
   ]
  }
 ],
 "metadata": {
  "kernelspec": {
   "display_name": "Python 3.9",
   "language": "python",
   "name": "python3"
  },
  "language_info": {
   "codemirror_mode": {
    "name": "ipython",
    "version": 3
   },
   "file_extension": ".py",
   "mimetype": "text/x-python",
   "name": "python",
   "nbconvert_exporter": "python",
   "pygments_lexer": "ipython3",
   "version": "3.9.18"
  }
 },
 "nbformat": 4,
 "nbformat_minor": 5
}
