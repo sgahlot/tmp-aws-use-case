{
 "cells": [
  {
   "cell_type": "code",
   "execution_count": null,
   "id": "a9b4bc7a-481d-4903-80f1-701419d8e680",
   "metadata": {},
   "outputs": [],
   "source": [
    "%pip install --upgrade pip\n",
    "%pip install -qU langchain-openai"
   ]
  },
  {
   "cell_type": "code",
   "execution_count": null,
   "id": "cc969231",
   "metadata": {},
   "outputs": [],
   "source": [
    "# Declare the inference endpoint\n",
    "inference_endpoint = 'ENDPOINT'\n",
    "model_id = 'llama'\n",
    "\n",
    "system_msg = \"Do not engage in additional dialog. Make your answer as concise as possible. You should only be answering one question at a time. \"\n",
    "human_msg = \"{question}\"\n",
    "temperature = 0.1"
   ]
  },
  {
   "cell_type": "code",
   "execution_count": 11,
   "id": "a20e5573",
   "metadata": {},
   "outputs": [],
   "source": [
    "from langchain_core.prompts import ChatPromptTemplate, HumanMessagePromptTemplate, PromptTemplate\n",
    "from langchain_core.messages import SystemMessage\n",
    "from langchain_openai import ChatOpenAI\n",
    "\n",
    "def create_chat_model(model_id: str, temp: float, inference_endpoint: str, api_key: str):\n",
    "  return ChatOpenAI(\n",
    "    model = model_id,\n",
    "    temperature = temp,\n",
    "    base_url = inference_endpoint,\n",
    "    api_key = api_key,\n",
    "  )\n",
    "\n",
    "def create_chat_chain(chat_model: any, system_msg: str, human_msg: str) -> any:\n",
    "  system_msg = SystemMessage(system_msg)\n",
    "  human_msg = HumanMessagePromptTemplate.from_template(human_msg)\n",
    "  prompt = ChatPromptTemplate.from_messages ([ system_msg, human_msg ])\n",
    "\n",
    "  return prompt | chat_model\n",
    "\n",
    "def invoke_model(chat_chain: any, input: dict):\n",
    "  response = chat_chain.invoke(input)\n",
    "  print(response.content)\n"
   ]
  },
  {
   "cell_type": "code",
   "execution_count": 12,
   "id": "a43ef391",
   "metadata": {},
   "outputs": [],
   "source": [
    "chat_model = create_chat_model(model_id, temperature, inference_endpoint, 'DUMMY_KEY')\n",
    "chat_chain = create_chat_chain(chat_model, system_msg, human_msg)"
   ]
  },
  {
   "cell_type": "code",
   "execution_count": null,
   "id": "2ad7f32d",
   "metadata": {},
   "outputs": [],
   "source": [
    "invoke_model(chat_chain, \"What's the capital of France?\")"
   ]
  },
  {
   "cell_type": "code",
   "execution_count": null,
   "id": "bf927433",
   "metadata": {},
   "outputs": [],
   "source": [
    "invoke_model(chat_chain, \"What's the capital of Spain?\")"
   ]
  },
  {
   "cell_type": "code",
   "execution_count": null,
   "id": "126de9ba",
   "metadata": {},
   "outputs": [],
   "source": [
    "invoke_model(chat_chain, \"What's the capital of Canada?\")"
   ]
  },
  {
   "cell_type": "code",
   "execution_count": null,
   "id": "a4e82aa1",
   "metadata": {},
   "outputs": [],
   "source": [
    "invoke_model(chat_chain, \"What's the capital of India?\")"
   ]
  },
  {
   "cell_type": "code",
   "execution_count": null,
   "id": "48e87b88",
   "metadata": {},
   "outputs": [],
   "source": [
    "invoke_model(chat_chain, \"What's the capital of USA?\")"
   ]
  },
  {
   "cell_type": "code",
   "execution_count": null,
   "id": "4dba99ed",
   "metadata": {},
   "outputs": [],
   "source": [
    "invoke_model(chat_chain, \"How's milk made?\")"
   ]
  },
  {
   "cell_type": "code",
   "execution_count": null,
   "id": "7e409489",
   "metadata": {},
   "outputs": [],
   "source": [
    "invoke_model(chat_chain, \"How's pizza made?\")"
   ]
  },
  {
   "cell_type": "code",
   "execution_count": null,
   "id": "6da679d3",
   "metadata": {},
   "outputs": [],
   "source": [
    "invoke_model(chat_chain, \"How's chocolate made?\")"
   ]
  }
 ],
 "metadata": {
  "kernelspec": {
   "display_name": "test-env",
   "language": "python",
   "name": "python3"
  },
  "language_info": {
   "codemirror_mode": {
    "name": "ipython",
    "version": 3
   },
   "file_extension": ".py",
   "mimetype": "text/x-python",
   "name": "python",
   "nbconvert_exporter": "python",
   "pygments_lexer": "ipython3",
   "version": "3.11.9"
  }
 },
 "nbformat": 4,
 "nbformat_minor": 5
}
