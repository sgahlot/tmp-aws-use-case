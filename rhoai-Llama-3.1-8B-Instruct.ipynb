{
 "cells": [
  {
   "cell_type": "code",
   "execution_count": 1,
   "id": "a9b4bc7a-481d-4903-80f1-701419d8e680",
   "metadata": {},
   "outputs": [
    {
     "name": "stdout",
     "output_type": "stream",
     "text": [
      "Requirement already satisfied: pip in /Users/sgahlot/code/work/AI/genUI-usecases/test/test-env/lib/python3.11/site-packages (24.3.1)\n",
      "Note: you may need to restart the kernel to use updated packages.\n",
      "Note: you may need to restart the kernel to use updated packages.\n"
     ]
    }
   ],
   "source": [
    "# !python -m venv venv\n",
    "%pip install --upgrade pip\n",
    "%pip install -qU langchain-openai"
   ]
  },
  {
   "cell_type": "code",
   "execution_count": null,
   "id": "cc969231",
   "metadata": {},
   "outputs": [],
   "source": [
    "# Declare the inference endpoint\n",
    "inference_endpoint = 'ENDPOINT'\n",
    "model_id = 'llama'\n",
    "\n",
    "system_msg = \"Do not engage in additional dialog. Make your answer as concise as possible. You should only be answering one question at a time. \"\n",
    "human_msg = \"{question}\"\n",
    "temperature = 0.1"
   ]
  },
  {
   "cell_type": "code",
   "execution_count": 2,
   "id": "a20e5573",
   "metadata": {},
   "outputs": [],
   "source": [
    "from langchain_core.prompts import ChatPromptTemplate, HumanMessagePromptTemplate, PromptTemplate\n",
    "from langchain_core.messages import SystemMessage\n",
    "from langchain_openai import ChatOpenAI\n",
    "\n",
    "def create_chat_model(model_id: str, temp: float, inference_endpoint: str, api_key: str):\n",
    "  return ChatOpenAI(\n",
    "    model = model_id,\n",
    "    temperature = temp,\n",
    "    base_url = inference_endpoint,\n",
    "    api_key = api_key,\n",
    "  )\n",
    "\n",
    "def create_chat_chain(chat_model: any, system_msg: str, human_msg: str) -> any:\n",
    "  system_msg = SystemMessage(system_msg)\n",
    "  human_msg = HumanMessagePromptTemplate.from_template(human_msg)\n",
    "  prompt = ChatPromptTemplate.from_messages ([ system_msg, human_msg ])\n",
    "\n",
    "  return prompt | chat_model\n",
    "\n",
    "def invoke_model(chat_chain: any, input: dict):\n",
    "  response = chat_chain.invoke(input)\n",
    "  print(response.content)\n"
   ]
  },
  {
   "cell_type": "code",
   "execution_count": 3,
   "id": "a43ef391",
   "metadata": {},
   "outputs": [],
   "source": [
    "chat_model = create_chat_model(model_id, temperature, inference_endpoint, 'DUMMY_KEY')\n",
    "chat_chain = create_chat_chain(chat_model, system_msg, human_msg)"
   ]
  },
  {
   "cell_type": "code",
   "execution_count": 4,
   "id": "2ad7f32d",
   "metadata": {},
   "outputs": [
    {
     "name": "stdout",
     "output_type": "stream",
     "text": [
      "Paris.\n"
     ]
    }
   ],
   "source": [
    "invoke_model(chat_chain, \"What's the capital of France?\")"
   ]
  },
  {
   "cell_type": "code",
   "execution_count": 5,
   "id": "bf927433",
   "metadata": {},
   "outputs": [
    {
     "name": "stdout",
     "output_type": "stream",
     "text": [
      "Madrid.\n"
     ]
    }
   ],
   "source": [
    "invoke_model(chat_chain, \"What's the capital of Spain?\")"
   ]
  },
  {
   "cell_type": "code",
   "execution_count": 6,
   "id": "126de9ba",
   "metadata": {},
   "outputs": [
    {
     "name": "stdout",
     "output_type": "stream",
     "text": [
      "Ottawa.\n"
     ]
    }
   ],
   "source": [
    "invoke_model(chat_chain, \"What's the capital of Canada?\")"
   ]
  },
  {
   "cell_type": "code",
   "execution_count": 7,
   "id": "a4e82aa1",
   "metadata": {},
   "outputs": [
    {
     "name": "stdout",
     "output_type": "stream",
     "text": [
      "New Delhi.\n"
     ]
    }
   ],
   "source": [
    "invoke_model(chat_chain, \"What's the capital of India?\")"
   ]
  },
  {
   "cell_type": "code",
   "execution_count": 8,
   "id": "48e87b88",
   "metadata": {},
   "outputs": [
    {
     "name": "stdout",
     "output_type": "stream",
     "text": [
      "Washington D.C.\n"
     ]
    }
   ],
   "source": [
    "invoke_model(chat_chain, \"What's the capital of USA?\")"
   ]
  },
  {
   "cell_type": "code",
   "execution_count": 9,
   "id": "4dba99ed",
   "metadata": {},
   "outputs": [
    {
     "name": "stdout",
     "output_type": "stream",
     "text": [
      "Milk production involves several steps:\n",
      "\n",
      "1. **Milk Collection**: Milk is collected from cows, goats, or sheep on dairy farms.\n",
      "2. **Pre-treatment**: The milk is cooled to around 4°C (39°F) to slow bacterial growth.\n",
      "3. **Standardization**: The milk is standardized to a uniform fat content by adding or removing cream.\n",
      "4. **Pasteurization**: The milk is heated to 161°F (72°C) for 15 seconds to kill bacteria and extend shelf life.\n",
      "5. **Homogenization**: The milk is forced through a small opening under high pressure to break down fat molecules, creating a uniform consistency.\n",
      "6. **Packaging**: The milk is packaged in bottles, cartons, or plastic jugs.\n",
      "7. **Quality Control**: The milk is tested for quality and purity before distribution.\n"
     ]
    }
   ],
   "source": [
    "invoke_model(chat_chain, \"How's milk made?\")"
   ]
  },
  {
   "cell_type": "code",
   "execution_count": 10,
   "id": "7e409489",
   "metadata": {},
   "outputs": [
    {
     "name": "stdout",
     "output_type": "stream",
     "text": [
      "The pizza-making process involves several steps:\n",
      "\n",
      "1. **Dough preparation**: Flour, yeast, water, salt, and sometimes sugar are mixed to create the dough. The mixture is kneaded and allowed to rise.\n",
      "2. **Topping preparation**: Various toppings such as meats, vegetables, cheese, and sauces are prepared.\n",
      "3. **Dough shaping**: The risen dough is divided into portions, shaped into balls, and then flattened into disks.\n",
      "4. **Topping application**: The prepared toppings are applied to the dough, leaving a small border around the edges.\n",
      "5. **Baking**: The pizza is baked in a hot oven (usually around 500°F/260°C) for 10-15 minutes, or until the crust is golden brown and the cheese is melted and bubbly.\n",
      "6. **Finishing**: The pizza is removed from the oven, and any final toppings or seasonings are added.\n"
     ]
    }
   ],
   "source": [
    "invoke_model(chat_chain, \"How's pizza made?\")"
   ]
  },
  {
   "cell_type": "code",
   "execution_count": 11,
   "id": "6da679d3",
   "metadata": {},
   "outputs": [
    {
     "name": "stdout",
     "output_type": "stream",
     "text": [
      "Chocolate production involves several steps:\n",
      "\n",
      "1. **Cacao Harvesting**: Cacao beans are harvested from the cacao tree (Theobroma cacao).\n",
      "2. **Fermentation**: Beans are fermented to develop flavor and aroma.\n",
      "3. **Drying**: Beans are dried to remove excess moisture.\n",
      "4. **Roasting**: Beans are roasted to enhance flavor.\n",
      "5. **Winnowing**: Shells are removed, leaving cacao nibs.\n",
      "6. **Grinding**: Nibs are ground into a fine paste called chocolate liquor.\n",
      "7. **Pressing**: Liquor is pressed to separate cocoa butter and cocoa solids.\n",
      "8. **Conching**: Cocoa solids are mixed with sugar, milk (if desired), and other ingredients, then conched (mixed) to develop flavor and texture.\n",
      "9. **Tempering**: Chocolate is tempered to give it a smooth, glossy finish.\n",
      "10. **Molding**: Chocolate is molded into its final form.\n"
     ]
    }
   ],
   "source": [
    "invoke_model(chat_chain, \"How's chocolate made?\")"
   ]
  }
 ],
 "metadata": {
  "kernelspec": {
   "display_name": "test-env",
   "language": "python",
   "name": "python3"
  },
  "language_info": {
   "codemirror_mode": {
    "name": "ipython",
    "version": 3
   },
   "file_extension": ".py",
   "mimetype": "text/x-python",
   "name": "python",
   "nbconvert_exporter": "python",
   "pygments_lexer": "ipython3",
   "version": "3.11.9"
  }
 },
 "nbformat": 4,
 "nbformat_minor": 5
}
